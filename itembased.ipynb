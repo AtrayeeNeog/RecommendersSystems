{
 "cells": [
  {
   "cell_type": "code",
   "execution_count": 2,
   "metadata": {},
   "outputs": [],
   "source": [
    "import pickle\n",
    "import json\n",
    "import numpy as np\n",
    "import pandas as pd\n",
    "import matplotlib.pyplot as plt\n",
    "from sklearn.utils import shuffle\n",
    "from datetime import datetime\n",
    "from sortedcontainers import SortedList"
   ]
  },
  {
   "cell_type": "code",
   "execution_count": 3,
   "metadata": {},
   "outputs": [],
   "source": [
    "import os\n",
    "if not os.path.exists('user2movie.json') or \\\n",
    "   not os.path.exists('movie2user.json') or \\\n",
    "   not os.path.exists('usermovie2rating.json') or \\\n",
    "   not os.path.exists('usermovie2rating_test.json'):\n",
    "       import preprocessing2dict"
   ]
  },
  {
   "cell_type": "code",
   "execution_count": 4,
   "metadata": {},
   "outputs": [],
   "source": [
    "with open('user2movie.json','rb') as f:\n",
    "    user2movie = pickle.load(f)\n",
    "with open('movie2user.json', 'rb') as f:\n",
    "    movie2user = pickle.load(f)\n",
    "with open('usermovie2rating.json', 'rb') as f:\n",
    "    usermovie2rating = pickle.load(f)\n",
    "with open('usermovie2rating_test.json', 'rb') as f:\n",
    "    usermovie2rating_test = pickle.load(f)"
   ]
  },
  {
   "cell_type": "code",
   "execution_count": 5,
   "metadata": {},
   "outputs": [
    {
     "name": "stdout",
     "output_type": "stream",
     "text": [
      "M:  2000 N:  10000\n"
     ]
    }
   ],
   "source": [
    "N = np.max(list(user2movie.keys())) +1\n",
    "m1= np.max(list(movie2user.keys()))\n",
    "m2 = np.max([m for (u,m), r in usermovie2rating_test.items()])\n",
    "M = max(m1, m2) +1\n",
    "print(\"M: \", M , \"N: \", N)"
   ]
  },
  {
   "cell_type": "code",
   "execution_count": 6,
   "metadata": {},
   "outputs": [],
   "source": [
    "if M > 2000:\n",
    "    print(\"M = \", M, \"Are you sure you want to continue?\")\n",
    "    print(\"Comment out these lines ifs so...\")\n",
    "    exit()"
   ]
  },
  {
   "cell_type": "code",
   "execution_count": null,
   "metadata": {},
   "outputs": [],
   "source": [
    "K = 20\n",
    "limit = 5\n",
    "neighbours = []\n",
    "averages = []\n",
    "deviations = []\n",
    "for i in range(M):\n",
    "    users_i = movie2user[i]\n",
    "    users_i_set = set(users_i)\n",
    "    ratings_i = {user:usermovie2rating[(user,i)] for user in users_i}\n",
    "    avg_i = np.mean(list(ratings_i.values()))\n",
    "    dev_i = {user: (rating - avg_i) for user, rating in ratings_i.items()}\n",
    "    dev_i_vals = np.array(list(dev_i.values()))\n",
    "    sigma_i = np.sqrt(dev_i_vals.dot(dev_i_vals))\n",
    "    averages.append(avg_i)\n",
    "    deviations.append(dev_i)\n",
    "    sl = SortedList()\n",
    "    for j in range(M):\n",
    "        if j != i:\n",
    "            users_j = movie2user[j]\n",
    "            users_j_set = set(users_j)\n",
    "            common_users = (users_i_set & users_j_set)\n",
    "            \n",
    "            if len(common_users) > limit:\n",
    "                ratings_j = {user:usermovie2rating[(user, j)] for user in users_j}\n",
    "                avg_j = np.mean(list(ratings_j.values()))\n",
    "                dev_j = {user: (rating - avg_j) for user, rating in ratings_j.items()}\n",
    "                dev_j_vals = np.array(list(dev_j.values()))\n",
    "                sigma_j = np.sqrt(dev_j_vals.dot(dev_j_vals))\n",
    "                \n",
    "                numerators = sum(dev_i[m]*dev_j[m] for m in common_users)\n",
    "                w_ij = numerators/(sigma_i*sigma_j)\n",
    "                \n",
    "                sl.add((-w_ij, j))\n",
    "                if len(sl)> limit:\n",
    "                    del sl[-1]\n",
    "    neighbours.append(sl)\n",
    "    \n",
    "    if i% 1 == 0:\n",
    "        print(i)\n",
    "\n",
    "def predict(i, u):\n",
    "    numerators = 0\n",
    "    denominator = 0\n",
    "    for neg_wt, j in neighbours[i]:\n",
    "        try:\n",
    "            numerators += -neg_wt* deviations[j][u]\n",
    "            denominators += abs(neg_wt)\n",
    "        except KeyError:\n",
    "            pass\n",
    "    if denominator==0:\n",
    "        predictions = averages[i]\n",
    "    else:\n",
    "        predictions = numerator/denominator + averages[i]\n",
    "    \n",
    "    predictions = min(5, predictions)\n",
    "    predictions = max(0.5, predictions)\n",
    "    return predictions\n",
    "\n",
    "train_predictions = []\n",
    "train_targets = []\n",
    "for (i,m), target in usermovie2rating.items():\n",
    "    predictions = predict(i,m)\n",
    "    train_predictions.append(predictions)\n",
    "    train_targets.append(target)\n",
    "\n",
    "test_predictions = []\n",
    "test_targets = []\n",
    "for (i,m), target in usermovie2rating_test.items():\n",
    "    predictions = predict(i,m)\n",
    "    test_predictions.append(predictions)\n",
    "    test_targets.append(target)\n",
    "\n",
    "def mse(p,t):\n",
    "    p = np.array(p)\n",
    "    t = np.array(t)\n",
    "    return((p-t)**2)\n",
    "\n",
    "print(\"Train MSE: \", mse(train_predictions, train_targets))\n",
    "print(\"Test MSE: \", mse(test_predictions, test_targets))"
   ]
  }
 ],
 "metadata": {
  "kernelspec": {
   "display_name": "Python 3",
   "language": "python",
   "name": "python3"
  },
  "language_info": {
   "codemirror_mode": {
    "name": "ipython",
    "version": 3
   },
   "file_extension": ".py",
   "mimetype": "text/x-python",
   "name": "python",
   "nbconvert_exporter": "python",
   "pygments_lexer": "ipython3",
   "version": "3.7.4"
  }
 },
 "nbformat": 4,
 "nbformat_minor": 2
}
